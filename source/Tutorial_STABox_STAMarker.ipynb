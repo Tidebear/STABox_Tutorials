{
 "cells": [
  {
   "cell_type": "markdown",
   "metadata": {},
   "source": [
    "# Tutorial 3: Spatial domain-specific highly variable gene identification  on human breast cancer FFPE tissues)\n",
    "Here we present our re-analysis of Xenium_FFPE_Human_Breast_Cancer_Rep1_cell_feature_matrix sample of the human breast cancer FFPE tissues dataset.\n",
    "\n",
    "This tutorial demonstrates how to identify domain-specific SVGs on 10x Xenium data using STABox-STAMarker. The processed data are available at https://www.ncbi.nlm.nih.gov/geo/query/acc.cgi?acc=GSE243280. "
   ]
  },
  {
   "cell_type": "code",
   "execution_count": 1,
   "metadata": {},
   "outputs": [
    {
     "name": "stderr",
     "output_type": "stream",
     "text": [
      "D:\\Users\\lqlu\\work\\software\\Anaconda\\envs\\STABox_env\\lib\\site-packages\\tqdm\\auto.py:22: TqdmWarning: IProgress not found. Please update jupyter and ipywidgets. See https://ipywidgets.readthedocs.io/en/stable/user_install.html\n",
      "  from .autonotebook import tqdm as notebook_tqdm\n"
     ]
    }
   ],
   "source": [
    "import os\n",
    "import pandas as pd\n",
    "import numpy as np\n",
    "import matplotlib.pyplot as plt\n",
    "import scanpy as sc\n",
    "import torch\n",
    "from stabox.model import STAGATE\n",
    "from stabox.model import STAMarker\n",
    "from stabox.model._utils import Cal_Spatial_Net, Stats_Spatial_Net\n",
    "from stabox.model import STAligner\n",
    "import glob\n",
    "from scipy.sparse import issparse, csr_matrix\n",
    "from stabox.pl.utils import Cal_Spatial_Net_new\n",
    "import anndata as ad\n",
    "import scipy.linalg\n",
    "os.environ['R_HOME'] = \"D:\\\\Users\\\\lqlu\\\\work\\\\software\\\\R-4.2.1\"\n",
    "os.environ['R_USER'] = \"D:\\\\Users\\\\lqlu\\\\work\\\\software\\\\Anaconda\\\\envs\\\\STAKITS\\\\Lib\\\\site-packages\\\\rpy2\"\n"
   ]
  },
  {
   "cell_type": "code",
   "execution_count": 2,
   "metadata": {},
   "outputs": [],
   "source": [
    "adata = sc.read_10x_h5(filename='D:\\\\Users\\\\lqlu\\\\work\\\\Data\\\\STABox_Data\\\\10X_Data\\\\10x Xenium\\\\Xenium_FFPE_Human_Breast_Cancer_Rep1_cell_feature_matrix.h5')\n",
    "df = pd.read_csv('D:\\\\Users\\\\lqlu\\\\work\\\\Data\\\\STABox_Data\\\\10X_Data\\\\10x Xenium\\\\Xenium_FFPE_Human_Breast_Cancer_Rep1_cells.csv')\n",
    "df.set_index(adata.obs_names, inplace=True)\n",
    "adata.obs = df.copy()\n",
    "adata.obsm[\"spatial\"] = adata.obs[[\"x_centroid\", \"y_centroid\"]].copy().to_numpy()"
   ]
  },
  {
   "cell_type": "code",
   "execution_count": 3,
   "metadata": {},
   "outputs": [
    {
     "name": "stderr",
     "output_type": "stream",
     "text": [
      "D:\\Users\\lqlu\\work\\software\\Anaconda\\envs\\STABox_env\\lib\\site-packages\\scanpy\\preprocessing\\_normalization.py:197: UserWarning: Some cells have zero counts\n",
      "  warn(UserWarning('Some cells have zero counts'))\n"
     ]
    }
   ],
   "source": [
    "sc.pp.normalize_total(adata, target_sum=1e4)\n",
    "sc.pp.log1p(adata)"
   ]
  },
  {
   "cell_type": "code",
   "execution_count": 4,
   "metadata": {},
   "outputs": [
    {
     "name": "stdout",
     "output_type": "stream",
     "text": [
      "------Calculating spatial graph...\n",
      "The graph contains 1373756 edges, 167782 cells.\n",
      "8.1877 neighbors per cell on average.\n"
     ]
    },
    {
     "data": {
      "image/png": "[encoded data removed]",
      "text/plain": [
       "<Figure size 300x200 with 1 Axes>"
      ]
     },
     "metadata": {},
     "output_type": "display_data"
    }
   ],
   "source": [
    "Cal_Spatial_Net(adata=adata,rad_cutoff=20)\n",
    "Stats_Spatial_Net(adata)"
   ]
  },
  {
   "cell_type": "code",
   "execution_count": 5,
   "metadata": {},
   "outputs": [],
   "source": [
    "stamarker = STAMarker(model_dir=\"./stabox/result/\",\n",
    "                      in_features=adata.shape[1], hidden_dims=[200, 30],\n",
    "                      n_models=3, device=torch.device(\"cuda:0\"))"
   ]
  },
  {
   "cell_type": "code",
   "execution_count": null,
   "metadata": {},
   "outputs": [
    {
     "name": "stdout",
     "output_type": "stream",
     "text": [
      "Starting training at status []...\n",
      "------Stage 1: Autoencoders training...\n"
     ]
    },
    {
     "name": "stderr",
     "output_type": "stream",
     "text": [
      "Train autoencoder 2 Epoch: 499/500, Loss: 2.1091: 100%|█████████████████████████████████| 3/3 [06:34<00:00, 131.30s/it]"
     ]
    },
    {
     "name": "stdout",
     "output_type": "stream",
     "text": [
      "------Stage 2: Consensus labels generation...\n"
     ]
    },
    {
     "name": "stderr",
     "output_type": "stream",
     "text": [
      "\n",
      "Train autoencoder 2 Epoch: 499/500, Loss: 2.1091: 100%|█████████████████████████████████| 3/3 [06:34<00:00, 131.41s/it]\u001b[A\n",
      "R[write to console]:                    __           __ \n",
      "   ____ ___  _____/ /_  _______/ /_\n",
      "  / __ `__ \\/ ___/ / / / / ___/ __/\n",
      " / / / / / / /__/ / /_/ (__  ) /_  \n",
      "/_/ /_/ /_/\\___/_/\\__,_/____/\\__/   version 6.0.0\n",
      "Type 'citation(\"mclust\")' for citing this R package in publications.\n",
      "\n"
     ]
    },
    {
     "name": "stdout",
     "output_type": "stream",
     "text": [
      "fitting ...\n",
      "  |======================================================================| 100%\n"
     ]
    },
    {
     "name": "stderr",
     "output_type": "stream",
     "text": [
      "\n",
      " 25%|█████████████████████                                                               | 1/4 [01:27<04:22, 87.65s/it]\u001b[A"
     ]
    },
    {
     "name": "stdout",
     "output_type": "stream",
     "text": [
      "fitting ...\n",
      "  |======================================================================| 100%\n"
     ]
    },
    {
     "name": "stderr",
     "output_type": "stream",
     "text": [
      "\n",
      " 50%|█████████████████████████████████████████▌                                         | 2/4 [03:19<03:23, 101.98s/it]\u001b[A"
     ]
    },
    {
     "name": "stdout",
     "output_type": "stream",
     "text": [
      "fitting ...\n",
      "  |======================================================================| 100%\n"
     ]
    },
    {
     "name": "stderr",
     "output_type": "stream",
     "text": [
      "\n",
      " 75%|███████████████████████████████████████████████████████████████                     | 3/4 [04:33<01:29, 89.11s/it]\u001b[A"
     ]
    },
    {
     "name": "stdout",
     "output_type": "stream",
     "text": [
      "Compute consensus matrix. Elapsed: 266.26\n",
      "\n"
     ]
    }
   ],
   "source": [
    "stamarker.train(adata, lr=1e-4, n_epochs=500, gradient_clip=5.0, use_net=\"Spatial_Net\",\n",
    "                resume=False, plot_consensus=True, n_clusters=10)"
   ]
  },
  {
   "cell_type": "code",
   "execution_count": null,
   "metadata": {},
   "outputs": [],
   "source": [
    "stamarker.predict(adata, use_net=\"Spatial_Net\")"
   ]
  },
  {
   "cell_type": "code",
   "execution_count": null,
   "metadata": {},
   "outputs": [],
   "source": [
    "output = stamarker.select_spatially_variable_genes(adata, use_smap=\"smap\", alpha=1.5)"
   ]
  },
  {
   "cell_type": "code",
   "execution_count": null,
   "metadata": {},
   "outputs": [],
   "source": []
  }
 ],
 "metadata": {
  "kernelspec": {
   "display_name": "Python 3",
   "language": "python",
   "name": "python3"
  },
  "language_info": {
   "codemirror_mode": {
    "name": "ipython",
    "version": 3
   },
   "file_extension": ".py",
   "mimetype": "text/x-python",
   "name": "python",
   "nbconvert_exporter": "python",
   "pygments_lexer": "ipython3",
   "version": "3.8.5"
  }
 },
 "nbformat": 4,
 "nbformat_minor": 5
}
