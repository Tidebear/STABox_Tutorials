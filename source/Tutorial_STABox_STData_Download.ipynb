{
 "cells": [
  {
   "cell_type": "markdown",
   "metadata": {},
   "source": [
    "# Tutorial 7: Download ST data from SODB and SpatialDB\n",
    "We Download ST data from SODB and SpatialDB by STABox. The downloaded data will be saved in '/STABox/src/stabox/dataset/'. For more information about SpatialDB and the SODB database, see: https://www.spatialomics.org/SpatialDB/ and https://gene.ai.tencent.com/SpatialOmics/"
   ]
  },
  {
   "cell_type": "markdown",
   "metadata": {},
   "source": [
    "## Down ST data from SODB database"
   ]
  },
  {
   "cell_type": "code",
   "execution_count": 1,
   "metadata": {},
   "outputs": [
    {
     "name": "stderr",
     "output_type": "stream",
     "text": [
      "D:\\Users\\lqlu\\work\\software\\Anaconda\\envs\\new_STABox_env\\lib\\site-packages\\tqdm\\auto.py:22: TqdmWarning: IProgress not found. Please update jupyter and ipywidgets. See https://ipywidgets.readthedocs.io/en/stable/user_install.html\n",
      "  from .autonotebook import tqdm as notebook_tqdm\n"
     ]
    },
    {
     "ename": "RuntimeError",
     "evalue": "module compiled against API version 0xe but this version of numpy is 0xd",
     "output_type": "error",
     "traceback": [
      "\u001b[1;31m---------------------------------------------------------------------------\u001b[0m",
      "\u001b[1;31mRuntimeError\u001b[0m                              Traceback (most recent call last)",
      "\u001b[1;31mRuntimeError\u001b[0m: module compiled against API version 0xe but this version of numpy is 0xd"
     ]
    }
   ],
   "source": [
    "from stabox.dataset.SODB import SODB\n",
    "from stabox.dataset.SpatiaIDB import SpatialDB"
   ]
  },
  {
   "cell_type": "code",
   "execution_count": 2,
   "metadata": {},
   "outputs": [],
   "source": [
    "sodb = SODB()"
   ]
  },
  {
   "cell_type": "code",
   "execution_count": null,
   "metadata": {},
   "outputs": [],
   "source": [
    "sodb.list_dataset()"
   ]
  },
  {
   "cell_type": "code",
   "execution_count": null,
   "metadata": {},
   "outputs": [],
   "source": [
    "sodb.list_dataset_by_category('Spatial Transcriptomics')"
   ]
  },
  {
   "cell_type": "code",
   "execution_count": 13,
   "metadata": {},
   "outputs": [
    {
     "data": {
      "text/plain": [
       "['GSM4861204_Visium-C1_10xvisium',\n",
       " 'GSM4861203_Visium-B1_10xvisium',\n",
       " 'GSM4861205_Visium-D1_10xvisium',\n",
       " 'GSM4861202_Visium-A1_10xvisium']"
      ]
     },
     "execution_count": 13,
     "metadata": {},
     "output_type": "execute_result"
    }
   ],
   "source": [
    "sodb.list_experiment_by_dataset('Sanchez2021A')"
   ]
  },
  {
   "cell_type": "code",
   "execution_count": 14,
   "metadata": {},
   "outputs": [
    {
     "name": "stdout",
     "output_type": "stream",
     "text": [
      "download experiment[GSM4861204_Visium-C1_10xvisium] in dataset[Sanchez2021A]\n",
      "dst_dir is D:\\Users\\lqlu\\work\\Codes\\work\\STABox\\src\\stabox\\dataset\\cache\\Sanchez2021A\n"
     ]
    },
    {
     "name": "stderr",
     "output_type": "stream",
     "text": [
      "100%|███████████████████████████████████████████████████████████████████████████████| 123M/123M [00:10<00:00, 12.6MB/s]\n"
     ]
    },
    {
     "name": "stdout",
     "output_type": "stream",
     "text": [
      "f.name is D:\\Users\\lqlu\\work\\Codes\\work\\STABox\\src\\stabox\\dataset\\cache\\Sanchez2021A\\tmptexady42\n",
      "dst is D:\\Users\\lqlu\\work\\Codes\\work\\STABox\\src\\stabox\\dataset\\cache\\Sanchez2021A\\GSM4861204_Visium-C1_10xvisium.h5ad\n",
      "load experiment[GSM4861204_Visium-C1_10xvisium] in dataset[Sanchez2021A]\n"
     ]
    }
   ],
   "source": [
    "# load_experiment(experiment_type, data_type)\n",
    "sodb.load_experiment('Sanchez2021A','GSM4861204_Visium-C1_10xvisium')"
   ]
  },
  {
   "cell_type": "markdown",
   "metadata": {},
   "source": [
    "## Down ST data from SpatialDB database"
   ]
  },
  {
   "cell_type": "code",
   "execution_count": 16,
   "metadata": {},
   "outputs": [],
   "source": [
    "# Spatial transcriptomics, st_27365449\n",
    "spatialdb = SpatialDB()"
   ]
  },
  {
   "cell_type": "code",
   "execution_count": 17,
   "metadata": {},
   "outputs": [],
   "source": [
    "spatialdb.file_exist()"
   ]
  },
  {
   "cell_type": "code",
   "execution_count": 23,
   "metadata": {},
   "outputs": [
    {
     "data": {
      "text/plain": [
       "['Spatial transcriptomics',\n",
       " 'Slide-seq',\n",
       " 'LCM-seq',\n",
       " 'seqFISH',\n",
       " 'MERFISH',\n",
       " 'Liver single cell zonation',\n",
       " 'Geo-seq',\n",
       " 'Tomo-seq']"
      ]
     },
     "execution_count": 23,
     "metadata": {},
     "output_type": "execute_result"
    }
   ],
   "source": [
    "spatialdb.get_download_data_type()"
   ]
  },
  {
   "cell_type": "code",
   "execution_count": 18,
   "metadata": {},
   "outputs": [
    {
     "data": {
      "text/plain": [
       "['st_27365449.tar.gz',\n",
       " 'st_29021611.tar.gz',\n",
       " 'st_29925878.tar.gz',\n",
       " 'st_30154148.tar.gz',\n",
       " 'st_30948552.tar.gz']"
      ]
     },
     "execution_count": 18,
     "metadata": {},
     "output_type": "execute_result"
    }
   ],
   "source": [
    "spatialdb.get_download_data_info('Spatial transcriptomics')"
   ]
  },
  {
   "cell_type": "code",
   "execution_count": 29,
   "metadata": {},
   "outputs": [],
   "source": [
    "spatialdb.download('st_30948552.tar.gz')"
   ]
  },
  {
   "cell_type": "code",
   "execution_count": null,
   "metadata": {},
   "outputs": [],
   "source": []
  }
 ],
 "metadata": {
  "kernelspec": {
   "display_name": "Python 3",
   "language": "python",
   "name": "python3"
  },
  "language_info": {
   "codemirror_mode": {
    "name": "ipython",
    "version": 3
   },
   "file_extension": ".py",
   "mimetype": "text/x-python",
   "name": "python",
   "nbconvert_exporter": "python",
   "pygments_lexer": "ipython3",
   "version": "3.8.5"
  }
 },
 "nbformat": 4,
 "nbformat_minor": 5
}
