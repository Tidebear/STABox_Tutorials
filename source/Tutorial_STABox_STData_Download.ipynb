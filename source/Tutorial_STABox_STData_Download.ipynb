{
 "cells": [
  {
   "cell_type": "markdown",
   "id": "4e259857",
   "metadata": {},
   "source": [
    "# Tutorial 7: Download ST data from SODB and SpatialDB\n",
    "We Download ST data from SODB and SpatialDB by STABox. The downloaded data will be saved in '/STABox/src/stabox/dataset/'. For more information about SpatialDB and the SODB database, see: https://www.spatialomics.org/SpatialDB/ and https://gene.ai.tencent.com/SpatialOmics/"
   ]
  },
  {
   "cell_type": "markdown",
   "id": "3617d662",
   "metadata": {},
   "source": [
    "# Down ST data from SODB database"
   ]
  },
  {
   "cell_type": "code",
   "execution_count": 2,
   "id": "2028a928",
   "metadata": {},
   "outputs": [],
   "source": [
    "from stabox.dataset.SODB import SODB\n",
    "from stabox.dataset.SpatiaIDB import SpatialDB"
   ]
  },
  {
   "cell_type": "code",
   "execution_count": 3,
   "id": "d96dd4a2",
   "metadata": {},
   "outputs": [],
   "source": [
    "sodb = SODB()"
   ]
  },
  {
   "cell_type": "code",
   "execution_count": 5,
   "id": "aaf76b4d",
   "metadata": {
    "collapsed": true
   },
   "outputs": [
    {
     "data": {
      "text/plain": [
       "['moncada2020integrating',\n",
       " 'Buzzi2022Spatial',\n",
       " 'MALDI_kidney',\n",
       " 'guilliams2022spatial',\n",
       " 'he2020integrating',\n",
       " 'Dataset1_MS_raw',\n",
       " 'Figure10_TMApanels',\n",
       " 'Sun2021Integrating',\n",
       " 'Dataset2_MS_process',\n",
       " 'MALDI_seed',\n",
       " 'Juntaro2022MEK',\n",
       " 'Dataset10_MS_raw',\n",
       " 'Borm2022Scalable',\n",
       " 'he2022high',\n",
       " 'lin2018highly',\n",
       " 'fawkner2021spatiotemporal',\n",
       " 'Dataset8_MS_raw',\n",
       " 'stahl2016visualization',\n",
       " 'scispace',\n",
       " 'eng2019transcriptome',\n",
       " 'Vickovic2019high',\n",
       " 'Dataset14_MS_process',\n",
       " 'hildebrandt2021spatial',\n",
       " 'Dixon2022Spatially',\n",
       " 'Beechem2022High',\n",
       " 'Wang2018three',\n",
       " 'wang2021easi',\n",
       " 'zhang2021spatially',\n",
       " 'Allen2022Molecular_aging',\n",
       " 'parigi2022the',\n",
       " 'Figure9_RCC',\n",
       " 'Dataset11_MS_raw',\n",
       " 'Dhainaut2022Spatial',\n",
       " 'Fu2021Unsupervised',\n",
       " 'maniatis2019spatiotemporal',\n",
       " 'Dataset14_MS_raw',\n",
       " 'bergenstrahle2021super',\n",
       " 'liu2022reproducible',\n",
       " 'Dataset10_MS_process',\n",
       " 'Sun2022Excitatory',\n",
       " 'codeluppi2018spatial',\n",
       " 'maynard2021trans',\n",
       " 'Dataset12_MS_raw',\n",
       " 'lohoff2021integration',\n",
       " 'Dataset8_MS_process_compress',\n",
       " 'Dataset7_MS_raw',\n",
       " 'rodriques2019slide',\n",
       " 'schurch2020coordinated',\n",
       " 'Dataset5_MS_process',\n",
       " 'Kadur2022Human',\n",
       " 'Misra2021Characterizing',\n",
       " 'Dataset1_MS_process',\n",
       " 'Dataset11_MS_process',\n",
       " 'Dataset4_MS_process',\n",
       " 'MALDI_brain',\n",
       " 'Dataset2_MS_process_compress',\n",
       " 'Dataset2_MS_raw',\n",
       " 'chen2021dissecting',\n",
       " 'Marshall2022High_human',\n",
       " 'Melo2021Integrating',\n",
       " 'asp2019a',\n",
       " 'Konieczny2022Interleukin',\n",
       " 'mantri2021spatiotemporal',\n",
       " 'hunter2021spatially',\n",
       " 'chen2022spatiotemporal',\n",
       " 'Navarro2020Spatial',\n",
       " 'Dataset7_MS_process',\n",
       " 'Booeshaghi2021Isoform',\n",
       " 'wang2022high',\n",
       " 'Hwang2022single',\n",
       " 'Dataset13_MS_process',\n",
       " 'Wang2018Three_1k',\n",
       " 'Dataset6_MS_process',\n",
       " 'Merfish_Visp',\n",
       " 'Visium_Allen',\n",
       " 'Lebrigand2022The',\n",
       " 'Vickovic2019high_update',\n",
       " 'chen2020spatial',\n",
       " 'Zeng2023Integrative',\n",
       " 'desi_metaspace',\n",
       " 'ortiz2020molecular',\n",
       " 'kuett2021three',\n",
       " 'Joglekar2021A',\n",
       " 'Goltsev2028deep',\n",
       " 'berglund2018spatial',\n",
       " 'moffitt2018molecular',\n",
       " 'Tower2021Spatial',\n",
       " 'seqFISH_VISp',\n",
       " 'Dataset5_MS_raw',\n",
       " 'Dataset9_MS_process_compress',\n",
       " 'Figure78_PDAC',\n",
       " 'Dataset3_MS_process',\n",
       " 'Shi2022Spatial',\n",
       " 'Dataset6_MS_process_compress',\n",
       " 'Dataset13_MS_raw',\n",
       " 'Dataset1_MS_process_compress',\n",
       " 'Dataset14_MS_process_compress',\n",
       " 'Sanchez2021A',\n",
       " 'liu2022spatiotemporal',\n",
       " 'risom2022transition',\n",
       " 'chen2021decoding',\n",
       " 'Dataset12_MS_process_compress',\n",
       " 'Dataset12_MS_process',\n",
       " 'Dataset11_MS_process_compress',\n",
       " 'Ratz2022Clonal',\n",
       " 'Dataset7_MS_process_compress',\n",
       " 'MALDI_lung',\n",
       " 'mcCaffrey2022the',\n",
       " 'xia2019spatial',\n",
       " 'Allen2022Molecular_lps',\n",
       " 'Zhang2023Amolecularly_rawcount',\n",
       " 'Dataset4_MS_process_compress',\n",
       " 'Fang2022Conservation',\n",
       " 'hartmann2020single_cell',\n",
       " 'Dataset8_MS_process',\n",
       " 'wei2022single',\n",
       " 'chen2022spatiotemporal_compre_20',\n",
       " 'niehaus2019transmission',\n",
       " 'Shah2016InSitu',\n",
       " 'Dataset15_MS_raw',\n",
       " 'liu2020high',\n",
       " 'carlberg2019exploring',\n",
       " 'Marshall2022High_mouse',\n",
       " 'Dataset4_MS_raw',\n",
       " 'Dataset15_MS_process',\n",
       " 'Dataset9_MS_process',\n",
       " 'backdahl2021spatial',\n",
       " 'Dataset3_MS_process_compress',\n",
       " 'ji2020multimodal',\n",
       " '10x',\n",
       " 'xia2022the',\n",
       " 'Figure1112_GBM',\n",
       " 'yuan2021seam',\n",
       " 'Wu2022spatial',\n",
       " 'Dataset15_MS_process_compress',\n",
       " 'Figure56_tonsils',\n",
       " 'stickels2020highly',\n",
       " 'DARTFISH',\n",
       " 'Biermann2022Dissecting',\n",
       " 'gracia2021genome',\n",
       " 'thrane2018spatially',\n",
       " 'Dataset3_MS_raw',\n",
       " 'gut2018multiplexed',\n",
       " 'Kleshchevnikov2022Cell2location',\n",
       " 'asp2017spatial',\n",
       " 'Biancalani2021Deep',\n",
       " 'Dataset5_MS_process_compress',\n",
       " 'Dataset13_MS_process_compress',\n",
       " 'Dataset10_MS_process_compress',\n",
       " 'Alon2021Expansion',\n",
       " 'Dataset9_MS_raw',\n",
       " 'kvastad2021the',\n",
       " 'Garcia2021Mapping',\n",
       " 'Barkley2022Cancer',\n",
       " 'zhao2022spatial',\n",
       " 'Gouin2021An',\n",
       " 'Dataset6_MS_raw',\n",
       " 'Pascual2021Dietary',\n",
       " 'keren2018a']"
      ]
     },
     "execution_count": 5,
     "metadata": {},
     "output_type": "execute_result"
    }
   ],
   "source": [
    "sodb.list_dataset()"
   ]
  },
  {
   "cell_type": "code",
   "execution_count": 9,
   "id": "6070bafa",
   "metadata": {
    "collapsed": true
   },
   "outputs": [
    {
     "data": {
      "text/plain": [
       "['moncada2020integrating',\n",
       " 'Buzzi2022Spatial',\n",
       " 'guilliams2022spatial',\n",
       " 'he2020integrating',\n",
       " 'Sun2021Integrating',\n",
       " 'Juntaro2022MEK',\n",
       " 'Borm2022Scalable',\n",
       " 'fawkner2021spatiotemporal',\n",
       " 'stahl2016visualization',\n",
       " 'scispace',\n",
       " 'eng2019transcriptome',\n",
       " 'Vickovic2019high',\n",
       " 'hildebrandt2021spatial',\n",
       " 'Dixon2022Spatially',\n",
       " 'Wang2018three',\n",
       " 'wang2021easi',\n",
       " 'zhang2021spatially',\n",
       " 'Allen2022Molecular_aging',\n",
       " 'parigi2022the',\n",
       " 'Dhainaut2022Spatial',\n",
       " 'Fu2021Unsupervised',\n",
       " 'maniatis2019spatiotemporal',\n",
       " 'bergenstrahle2021super',\n",
       " 'Sun2022Excitatory',\n",
       " 'codeluppi2018spatial',\n",
       " 'maynard2021trans',\n",
       " 'lohoff2021integration',\n",
       " 'rodriques2019slide',\n",
       " 'Kadur2022Human',\n",
       " 'Misra2021Characterizing',\n",
       " 'Marshall2022High_human',\n",
       " 'chen2021dissecting',\n",
       " 'Melo2021Integrating',\n",
       " 'asp2019a',\n",
       " 'Konieczny2022Interleukin',\n",
       " 'mantri2021spatiotemporal',\n",
       " 'hunter2021spatially',\n",
       " 'chen2022spatiotemporal',\n",
       " 'Navarro2020Spatial',\n",
       " 'Booeshaghi2021Isoform',\n",
       " 'wang2022high',\n",
       " 'Wang2018Three_1k',\n",
       " 'Merfish_Visp',\n",
       " 'Visium_Allen',\n",
       " 'Lebrigand2022The',\n",
       " 'Vickovic2019high_update',\n",
       " 'chen2020spatial',\n",
       " 'Zeng2023Integrative',\n",
       " 'ortiz2020molecular',\n",
       " 'Joglekar2021A',\n",
       " 'berglund2018spatial',\n",
       " 'moffitt2018molecular',\n",
       " 'Tower2021Spatial',\n",
       " 'seqFISH_VISp',\n",
       " 'Shi2022Spatial',\n",
       " 'Sanchez2021A',\n",
       " 'liu2022spatiotemporal',\n",
       " 'chen2021decoding',\n",
       " 'Ratz2022Clonal',\n",
       " 'xia2019spatial',\n",
       " 'Allen2022Molecular_lps',\n",
       " 'Zhang2023Amolecularly_rawcount',\n",
       " 'Fang2022Conservation',\n",
       " 'wei2022single',\n",
       " 'chen2022spatiotemporal_compre_20',\n",
       " 'Shah2016InSitu',\n",
       " 'carlberg2019exploring',\n",
       " 'Marshall2022High_mouse',\n",
       " 'backdahl2021spatial',\n",
       " 'ji2020multimodal',\n",
       " '10x',\n",
       " 'xia2022the',\n",
       " 'Wu2022spatial',\n",
       " 'stickels2020highly',\n",
       " 'DARTFISH',\n",
       " 'Biermann2022Dissecting',\n",
       " 'gracia2021genome',\n",
       " 'thrane2018spatially',\n",
       " 'Kleshchevnikov2022Cell2location',\n",
       " 'asp2017spatial',\n",
       " 'Alon2021Expansion',\n",
       " 'kvastad2021the',\n",
       " 'Garcia2021Mapping',\n",
       " 'Barkley2022Cancer',\n",
       " 'Gouin2021An',\n",
       " 'Pascual2021Dietary']"
      ]
     },
     "execution_count": 9,
     "metadata": {},
     "output_type": "execute_result"
    }
   ],
   "source": [
    "sodb.list_dataset_by_category('Spatial Transcriptomics')"
   ]
  },
  {
   "cell_type": "code",
   "execution_count": 13,
   "id": "8953c12c",
   "metadata": {},
   "outputs": [
    {
     "data": {
      "text/plain": [
       "['GSM4861204_Visium-C1_10xvisium',\n",
       " 'GSM4861203_Visium-B1_10xvisium',\n",
       " 'GSM4861205_Visium-D1_10xvisium',\n",
       " 'GSM4861202_Visium-A1_10xvisium']"
      ]
     },
     "execution_count": 13,
     "metadata": {},
     "output_type": "execute_result"
    }
   ],
   "source": [
    "sodb.list_experiment_by_dataset('Sanchez2021A')"
   ]
  },
  {
   "cell_type": "code",
   "execution_count": 14,
   "id": "6233a693",
   "metadata": {},
   "outputs": [
    {
     "name": "stdout",
     "output_type": "stream",
     "text": [
      "download experiment[GSM4861204_Visium-C1_10xvisium] in dataset[Sanchez2021A]\n",
      "dst_dir is D:\\Users\\lqlu\\work\\Codes\\work\\STABox\\src\\stabox\\dataset\\cache\\Sanchez2021A\n"
     ]
    },
    {
     "name": "stderr",
     "output_type": "stream",
     "text": [
      "100%|███████████████████████████████████████████████████████████████████████████████| 123M/123M [00:10<00:00, 12.6MB/s]\n"
     ]
    },
    {
     "name": "stdout",
     "output_type": "stream",
     "text": [
      "f.name is D:\\Users\\lqlu\\work\\Codes\\work\\STABox\\src\\stabox\\dataset\\cache\\Sanchez2021A\\tmptexady42\n",
      "dst is D:\\Users\\lqlu\\work\\Codes\\work\\STABox\\src\\stabox\\dataset\\cache\\Sanchez2021A\\GSM4861204_Visium-C1_10xvisium.h5ad\n",
      "load experiment[GSM4861204_Visium-C1_10xvisium] in dataset[Sanchez2021A]\n"
     ]
    }
   ],
   "source": [
    "# load_experiment(experiment_type, data_type)\n",
    "sodb.load_experiment('Sanchez2021A','GSM4861204_Visium-C1_10xvisium')"
   ]
  },
  {
   "cell_type": "markdown",
   "id": "0e6c7b31",
   "metadata": {},
   "source": [
    "# Down ST data from SpatialDB database"
   ]
  },
  {
   "cell_type": "code",
   "execution_count": 16,
   "id": "4768fbda",
   "metadata": {},
   "outputs": [],
   "source": [
    "# Spatial transcriptomics, st_27365449\n",
    "spatialdb = SpatialDB()"
   ]
  },
  {
   "cell_type": "code",
   "execution_count": 17,
   "id": "5906743c",
   "metadata": {},
   "outputs": [],
   "source": [
    "spatialdb.file_exist()"
   ]
  },
  {
   "cell_type": "code",
   "execution_count": 23,
   "id": "23efa91a",
   "metadata": {},
   "outputs": [
    {
     "data": {
      "text/plain": [
       "['Spatial transcriptomics',\n",
       " 'Slide-seq',\n",
       " 'LCM-seq',\n",
       " 'seqFISH',\n",
       " 'MERFISH',\n",
       " 'Liver single cell zonation',\n",
       " 'Geo-seq',\n",
       " 'Tomo-seq']"
      ]
     },
     "execution_count": 23,
     "metadata": {},
     "output_type": "execute_result"
    }
   ],
   "source": [
    "spatialdb.get_download_data_type()"
   ]
  },
  {
   "cell_type": "code",
   "execution_count": 18,
   "id": "6082fc0b",
   "metadata": {},
   "outputs": [
    {
     "data": {
      "text/plain": [
       "['st_27365449.tar.gz',\n",
       " 'st_29021611.tar.gz',\n",
       " 'st_29925878.tar.gz',\n",
       " 'st_30154148.tar.gz',\n",
       " 'st_30948552.tar.gz']"
      ]
     },
     "execution_count": 18,
     "metadata": {},
     "output_type": "execute_result"
    }
   ],
   "source": [
    "spatialdb.get_download_data_info('Spatial transcriptomics')"
   ]
  },
  {
   "cell_type": "code",
   "execution_count": 29,
   "id": "fb0e23a5",
   "metadata": {},
   "outputs": [],
   "source": [
    "spatialdb.download('st_30948552.tar.gz')"
   ]
  },
  {
   "cell_type": "code",
   "execution_count": null,
   "id": "9222de97",
   "metadata": {},
   "outputs": [],
   "source": []
  }
 ],
 "metadata": {
  "kernelspec": {
   "display_name": "Python [conda env:new_STABox_env] *",
   "language": "python",
   "name": "conda-env-new_STABox_env-py"
  },
  "language_info": {
   "codemirror_mode": {
    "name": "ipython",
    "version": 3
   },
   "file_extension": ".py",
   "mimetype": "text/x-python",
   "name": "python",
   "nbconvert_exporter": "python",
   "pygments_lexer": "ipython3",
   "version": "3.7.13"
  }
 },
 "nbformat": 4,
 "nbformat_minor": 5
}
